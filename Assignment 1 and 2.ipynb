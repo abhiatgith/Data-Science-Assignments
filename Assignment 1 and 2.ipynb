{
 "cells": [
  {
   "cell_type": "code",
   "execution_count": 52,
   "metadata": {},
   "outputs": [
    {
     "name": "stdout",
     "output_type": "stream",
     "text": [
      "List of numbers which are divisible by 7 but are not a multiple of 5:\n",
      " [2002, 2009, 2016, 2023, 2037, 2044, 2051, 2058, 2072, 2079, 2086, 2093, 2107, 2114, 2121, 2128, 2142, 2149, 2156, 2163, 2177, 2184, 2191, 2198, 2212, 2219, 2226, 2233, 2247, 2254, 2261, 2268, 2282, 2289, 2296, 2303, 2317, 2324, 2331, 2338, 2352, 2359, 2366, 2373, 2387, 2394, 2401, 2408, 2422, 2429, 2436, 2443, 2457, 2464, 2471, 2478, 2492, 2499, 2506, 2513, 2527, 2534, 2541, 2548, 2562, 2569, 2576, 2583, 2597, 2604, 2611, 2618, 2632, 2639, 2646, 2653, 2667, 2674, 2681, 2688, 2702, 2709, 2716, 2723, 2737, 2744, 2751, 2758, 2772, 2779, 2786, 2793, 2807, 2814, 2821, 2828, 2842, 2849, 2856, 2863, 2877, 2884, 2891, 2898, 2912, 2919, 2926, 2933, 2947, 2954, 2961, 2968, 2982, 2989, 2996, 3003, 3017, 3024, 3031, 3038, 3052, 3059, 3066, 3073, 3087, 3094, 3101, 3108, 3122, 3129, 3136, 3143, 3157, 3164, 3171, 3178, 3192, 3199]\n"
     ]
    }
   ],
   "source": [
    "# Assignment 1: Task 1 - Question 2\n",
    "# Write a program which will find all such numbers which are divisible by 7 but are not a multiple of 5, \n",
    "# between 2000 and 3200 (both included). The numbers obtained should be printed in a comma-separated sequence \n",
    "# on a single line.\n",
    "\n",
    "num_lis=[]\n",
    "for i in range(2000,3201,1):\n",
    "    if i%7==0 and i%5!=0:\n",
    "        num_lis.append(i)\n",
    "print('List of numbers which are divisible by 7 but are not a multiple of 5:\\n',num_lis)"
   ]
  },
  {
   "cell_type": "code",
   "execution_count": 14,
   "metadata": {},
   "outputs": [
    {
     "name": "stdout",
     "output_type": "stream",
     "text": [
      "Your First Name is:Rahjdsd\n",
      "Your Last name is:dsds\n",
      "Name in reverse: dsdjhaR sdsd\n"
     ]
    }
   ],
   "source": [
    "# Assignment 1: Task 1 - Question 3\n",
    "# Write a Python program to accept the user's first and last name and then getting them printed in the the reverse order\n",
    "# with a space between first name and last name. \n",
    "\n",
    "first_name = input('Your First Name is:')\n",
    "last_name = input('Your Last name is:')\n",
    "Rev_name = first_name[::-1]+' '+last_name[::-1]\n",
    "print('Name in reverse:',Rev_name)"
   ]
  },
  {
   "cell_type": "code",
   "execution_count": 49,
   "metadata": {},
   "outputs": [
    {
     "name": "stdout",
     "output_type": "stream",
     "text": [
      "Volume of the sphere=: 904.7786842338603\n"
     ]
    }
   ],
   "source": [
    "# Assignment 1: Task 1 - Question 4\n",
    "# Write a Python program to find the volume of a sphere with diameter 12 cm.  \n",
    "# Formula: V=4/3 * π * r 3 \n",
    "\n",
    "import math\n",
    "\n",
    "pi = math.pi\n",
    "dia=12\n",
    "rad=d/2\n",
    "sphere_volume=4/3*pi*rad**3\n",
    "print('Volume of the sphere=:',sphere_volume)"
   ]
  },
  {
   "cell_type": "code",
   "execution_count": 15,
   "metadata": {},
   "outputs": [
    {
     "name": "stdout",
     "output_type": "stream",
     "text": [
      "Enter list of values seperated by commas:34,51,1,2,331,11,112,,,,21\n",
      "['34', '51', '1', '2', '331', '11', '112', '21']\n"
     ]
    }
   ],
   "source": [
    "# Assignment 1: Task 2 - Question 1\n",
    "# Write a program which accepts a sequence of comma-separated numbers from console and generate a list. \n",
    "\n",
    "num_list=input('Enter list of values seperated by commas:')\n",
    "new_list_new=[]\n",
    "new_list=num_list.split(',')\n",
    "while '' in new_list:\n",
    "    new_list.remove('')\n",
    "print(new_list)"
   ]
  },
  {
   "cell_type": "code",
   "execution_count": 16,
   "metadata": {},
   "outputs": [
    {
     "name": "stdout",
     "output_type": "stream",
     "text": [
      "*\n",
      "**\n",
      "***\n",
      "****\n",
      "*****\n",
      "****\n",
      "***\n",
      "**\n",
      "*\n"
     ]
    }
   ],
   "source": [
    "# Assignment 1: Task 2 - Question 2\n",
    "# Create the below pattern using nested for loop in Python.\n",
    "\n",
    "def pattern_draw(pattern,size):\n",
    "    \n",
    "    for i in range(1,size+1,1):\n",
    "        print(i*pattern)\n",
    "        if i==size:\n",
    "            for i in range(size-1,0,-1):\n",
    "                print(i*pattern)\n",
    "\n",
    "pattern_draw('*',5)"
   ]
  },
  {
   "cell_type": "code",
   "execution_count": 5,
   "metadata": {},
   "outputs": [
    {
     "name": "stdout",
     "output_type": "stream",
     "text": [
      "Please provide the word that you want to be reversed:Anupama\n",
      "amapunA\n"
     ]
    }
   ],
   "source": [
    "# Assignment 1: Task 2 - Question 3\n",
    "# Write a Python program to reverse a word after accepting the input from the user. \n",
    "\n",
    "word = input('Please provide the word that you want to be reversed:')\n",
    "Reverse_word=''\n",
    "for i in range(len(word)-1,-1,-1):\n",
    "    Reverse_word=Reverse_word+word[i]\n",
    "print (Reverse_word)\n",
    "\n"
   ]
  },
  {
   "cell_type": "code",
   "execution_count": 1,
   "metadata": {},
   "outputs": [
    {
     "name": "stdout",
     "output_type": "stream",
     "text": [
      "WE, THE PEOPLE OF INDIA,\n",
      "\t having solemnly resolved to constitute India into a SOVEREIGN, !\n",
      "\t\tSOCIALIST, SECULAR, DEMOCRATIC REPUBLIC\n",
      "\t\t and to secure to all its citizens\n"
     ]
    }
   ],
   "source": [
    "# Assignment 1: Task 2 - Question 4\n",
    "# Write a Python Program to print the given string in the format specified in the sample output\n",
    "\n",
    "Input_str = 'WE, THE PEOPLE OF INDIA, having solemnly resolved to constitute India into a SOVEREIGN, SOCIALIST, SECULAR, DEMOCRATIC REPUBLIC and to secure to all its citizens'\n",
    "print('WE, THE PEOPLE OF INDIA,\\n\\t having solemnly resolved to constitute India into a SOVEREIGN, !\\n\\t\\tSOCIALIST, SECULAR, DEMOCRATIC REPUBLIC\\n\\t\\t and to secure to all its citizens')"
   ]
  },
  {
   "cell_type": "code",
   "execution_count": 2,
   "metadata": {},
   "outputs": [
    {
     "data": {
      "text/plain": [
       "15"
      ]
     },
     "execution_count": 2,
     "metadata": {},
     "output_type": "execute_result"
    }
   ],
   "source": [
    "# Assignment 2: Task 1 - Question 1.1 \n",
    "# Write a Python Program to implement your own\n",
    "# myreduce() function which works exactly like Python's built-in function reduce() \n",
    "\n",
    "seq = [1,2,3,4,5]\n",
    "\n",
    "def total(a,b):\n",
    "    sum = a+b\n",
    "    return sum\n",
    "\n",
    "def myreduce(func,seq):\n",
    "    result = func(seq[0],seq[1])\n",
    "    for i in range(2,len(seq)):\n",
    "        result2 = func(result,seq[i])\n",
    "        result = result2\n",
    "    return result\n",
    "\n",
    "myreduce(total,seq)"
   ]
  },
  {
   "cell_type": "code",
   "execution_count": 3,
   "metadata": {},
   "outputs": [
    {
     "data": {
      "text/plain": [
       "[300, 10, 890]"
      ]
     },
     "execution_count": 3,
     "metadata": {},
     "output_type": "execute_result"
    }
   ],
   "source": [
    "# Assignment 2: Task 1 - Question 1.2 \n",
    "# Write a Python program to implement your own myfilter() function which \n",
    "# works exactly like Python's built-in function filter() \n",
    "\n",
    "seq = [109,300,10,345,890]\n",
    "\n",
    "def check_even(a):\n",
    "    if a%2==0:\n",
    "        return True\n",
    "\n",
    "def myfilter(func,seq):\n",
    "    new_seq = []\n",
    "    for i in range(0,len(seq)):\n",
    "        if (check_even(seq[i]) == True):\n",
    "            new_seq.append(seq[i]) \n",
    "    return new_seq\n",
    "\n",
    "myfilter(check_even,seq)"
   ]
  },
  {
   "cell_type": "code",
   "execution_count": 48,
   "metadata": {},
   "outputs": [
    {
     "name": "stdout",
     "output_type": "stream",
     "text": [
      "List1: ['A', 'C', 'A', 'D', 'G', 'I', 'L', 'D']\n",
      "List2: ['x', 'xx', 'xxx', 'xxxx', 'y', 'yy', 'yyy', 'yyyy', 'z', 'zz', 'zzz', 'zzzz']\n",
      "List3: ['x', 'y', 'z', 'xx', 'yy', 'zz', 'xxx', 'yyy', 'zzz', 'xxxx', 'yyyy', 'zzzz']\n",
      "List4: [[2], [3], [4], [3], [4], [5], [4], [5], [6]]\n",
      "List5: [[2, 3, 4, 5], [3, 4, 5, 6], [4, 5, 6, 7], [5, 6, 7, 8]]\n",
      "List6: [(1, 1), (2, 1), (3, 1), (1, 2), (2, 2), (3, 2), (1, 3), (2, 3), (3, 3)]\n"
     ]
    }
   ],
   "source": [
    "# Assignment 2: Task 1 - Question 2\n",
    "# Implement List comprehensions to produce the following lists.\n",
    "# Write List comprehensions to produce the following Lists\n",
    "# ['A', 'C', 'A', 'D', 'G', 'I', ’L’, ‘ D’]\n",
    "# ['x', 'xx', 'xxx', 'xxxx', 'y', 'yy', 'yyy', 'yyyy', 'z', 'zz', 'zzz', 'zzzz']\n",
    "# ['x', 'y', 'z', 'xx', 'yy', 'zz', 'xx', 'yy', 'zz', 'xxxx', 'yyyy', 'zzzz']\n",
    "# [[2], [3], [4], [3], [4], [5], [4], [5], [6]] \n",
    "# [[2, 3, 4, 5], [3, 4, 5, 6], [4, 5, 6, 7], [5, 6, 7, 8]]\n",
    "# [(1, 1), (2, 1), (3, 1), (1, 2), (2, 2), (3, 2), (1, 3), (2, 3), (3, 3)]\n",
    "\n",
    "list1 = [i for i in 'ACADGILD']\n",
    "list2 = [i*h for i in 'xyz' for h in range(1,5)]\n",
    "list3 = [i*h for i in [1,2,3,4] for h in ['x','y','z']]\n",
    "list4  = [[i+h] for i in [0,1,2] for h in [2,3,4]]\n",
    "list5  = [[i,i+1,i+2,i+3] for i in [2,3,4,5]]\n",
    "list6 = [(h,i) for i in [1,2,3] for h in [1,2,3]]\n",
    "\n",
    "print ('List1:',list1)\n",
    "print ('List2:',list2)\n",
    "print ('List3:',list3)\n",
    "print ('List4:',list4)\n",
    "print ('List5:',list5)\n",
    "print ('List6:',list6)"
   ]
  },
  {
   "cell_type": "code",
   "execution_count": 45,
   "metadata": {},
   "outputs": [
    {
     "name": "stdout",
     "output_type": "stream",
     "text": [
      "Longent word in the list is: longest\n"
     ]
    }
   ],
   "source": [
    "# Assignment 2: Task 2 - Question 3 \n",
    "# Implement a function longestWord() that takes a list of words and returns the longest one.\n",
    "\n",
    "word_list = ['check','if','longest','is','the','longest','word','in','this','list','please','confirm']\n",
    "\n",
    "def longestword(a):\n",
    "    current = len(a[0])\n",
    "    longest = ''\n",
    "    for i in range(1,len(a)):\n",
    "        if len(a[i])>current:\n",
    "            longest = a[i]\n",
    "            current =  len(a[i])\n",
    "    return longest\n",
    "\n",
    "print('Longent word in the list is:',longestword(word_list))"
   ]
  },
  {
   "cell_type": "code",
   "execution_count": 37,
   "metadata": {},
   "outputs": [
    {
     "name": "stdout",
     "output_type": "stream",
     "text": [
      "Area of the Triangle = 139.0537216330437\n"
     ]
    }
   ],
   "source": [
    "# Assignment 2: Task 2 - Question 1.1 \n",
    "# Write a Python Program(with class concepts) to find the area of the triangle using the below formula. \n",
    "# area = (s*(s-a)*(s-b)*(s-c)) ** 0.5 \n",
    "# Function to take the length of the sides of triangle from user should be defined in the parent class and \n",
    "# function to calculate the area should be defined in subclass. \n",
    "\n",
    "\n",
    "class Triangle_Mes:\n",
    "    \n",
    "    def __init__(self,alength,blength,clength):\n",
    "        self.alength = alength\n",
    "        self.blength = blength\n",
    "        self.clength = clength\n",
    "        \n",
    "class Calc_Triangle_Area(Triangle_Mes):\n",
    "        \n",
    "    def __init__(self,alength,blength,clength):\n",
    "        super().__init__(alength,blength,clength)\n",
    "    \n",
    "    def calc_area(self):\n",
    "        s = (self.alength + self.blength + self.clength)/2\n",
    "        area = (s*(s-self.alength)*(s-self.blength)*(s-self.clength)) ** 0.5\n",
    "        return area\n",
    "        \n",
    "Tri1 = Calc_Triangle_Area(20,15,20)\n",
    "print ('Area of the Triangle =', Tri1.calc_area())"
   ]
  },
  {
   "cell_type": "code",
   "execution_count": 4,
   "metadata": {},
   "outputs": [
    {
     "name": "stdout",
     "output_type": "stream",
     "text": [
      "List of words that are longer than given integer is: ['longest', 'longest', 'confirm']\n"
     ]
    }
   ],
   "source": [
    "# Assignment 2: Task 2 - Question 1.2\n",
    "# Write a function filter_long_words() that takes a \n",
    "# list of words and an integer n and returns the list of words that are longer than n. \n",
    "\n",
    "word_list = ['check','if','longest','is','the','longest','word','in','this','list','please','confirm']\n",
    "\n",
    "def longerword(lst,intg):\n",
    "    lst_b = []\n",
    "    for i in range(0,len(lst)):\n",
    "        if len(lst[i]) > intg:\n",
    "            lst_b.append(lst[i])\n",
    "    return lst_b\n",
    "\n",
    "Longer_Than_N_List = longerword(word_list,6)\n",
    "print('List of words that are longer than given integer is:',Longer_Than_N_List)"
   ]
  },
  {
   "cell_type": "code",
   "execution_count": 42,
   "metadata": {},
   "outputs": [
    {
     "name": "stdout",
     "output_type": "stream",
     "text": [
      "Length of corresponding words in the list is: [8, 2, 1, 4, 3]\n"
     ]
    }
   ],
   "source": [
    "# Assignment 2: Task 2 - Question 2.1 \n",
    "# Write a Python program using function concept that maps  list of words into a \n",
    "# list of integers representing the lengths of the corresponding words. \n",
    "# Hint: If a list [ ab,cde,erty] is passed on to the python function output should come as [2,3,4] \n",
    "# Here 2,3 and 4 are the lengths of the words in the list. \n",
    "\n",
    "old_lst=['abhilash','is','s','good','boy']\n",
    "\n",
    "new_lst = list(map(lambda x: len(x), old_lst))\n",
    "print ('Length of corresponding words in the list is:',new_lst)"
   ]
  },
  {
   "cell_type": "code",
   "execution_count": 44,
   "metadata": {},
   "outputs": [
    {
     "name": "stdout",
     "output_type": "stream",
     "text": [
      "Vowel check result: False\n"
     ]
    }
   ],
   "source": [
    "# Assignment 2: Task 2 - Question 2.2 \n",
    "# Write a Python function which takes a character (i.e. a string of length 1) and returns\n",
    "# True if it is a vowel, False otherwise.\n",
    "\n",
    "def is_vowel(chr):\n",
    "    if type(chr)!=str or len(chr)!= 1:\n",
    "        return 'Please type in one alphabet'\n",
    "    for i in 'aeiou':\n",
    "        if i==chr:\n",
    "            return True\n",
    "    return False\n",
    "\n",
    "print('Vowel check result:',is_vowel('r'))"
   ]
  },
  {
   "cell_type": "code",
   "execution_count": null,
   "metadata": {},
   "outputs": [],
   "source": []
  }
 ],
 "metadata": {
  "kernelspec": {
   "display_name": "Python 3",
   "language": "python",
   "name": "python3"
  },
  "language_info": {
   "codemirror_mode": {
    "name": "ipython",
    "version": 3
   },
   "file_extension": ".py",
   "mimetype": "text/x-python",
   "name": "python",
   "nbconvert_exporter": "python",
   "pygments_lexer": "ipython3",
   "version": "3.7.4"
  }
 },
 "nbformat": 4,
 "nbformat_minor": 2
}
